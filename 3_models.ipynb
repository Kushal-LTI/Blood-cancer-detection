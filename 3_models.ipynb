{
  "nbformat": 4,
  "nbformat_minor": 0,
  "metadata": {
    "colab": {
      "provenance": [],
      "mount_file_id": "15e-R3wmPzHCbPuBzCJTqMHCRbstqgT5r",
      "authorship_tag": "ABX9TyMGQNP5k8DP5xIXgdge+lcF",
      "include_colab_link": true
    },
    "kernelspec": {
      "name": "python3",
      "display_name": "Python 3"
    },
    "language_info": {
      "name": "python"
    }
  },
  "cells": [
    {
      "cell_type": "markdown",
      "metadata": {
        "id": "view-in-github",
        "colab_type": "text"
      },
      "source": [
        "<a href=\"https://colab.research.google.com/github/Kushal-LTI/Blood-cancer-detection/blob/main/3_models.ipynb\" target=\"_parent\"><img src=\"https://colab.research.google.com/assets/colab-badge.svg\" alt=\"Open In Colab\"/></a>"
      ]
    },
    {
      "cell_type": "code",
      "execution_count": null,
      "metadata": {
        "id": "a16EYVd3D9jT"
      },
      "outputs": [],
      "source": []
    },
    {
      "cell_type": "markdown",
      "metadata": {
        "id": "d7696f9f"
      },
      "source": [
        "# Task\n",
        "Predict labels and confidence scores for uploaded images using three models stored in Google Drive: two `.h5` files and one `.pth` file."
      ]
    },
    {
      "cell_type": "markdown",
      "metadata": {
        "id": "671ffd85"
      },
      "source": [
        "## Mount google drive\n",
        "\n",
        "### Subtask:\n",
        "Mount Google Drive to access the saved models.\n"
      ]
    },
    {
      "cell_type": "markdown",
      "metadata": {
        "id": "b352e29e"
      },
      "source": [
        "**Reasoning**:\n",
        "Mount Google Drive to access the model files.\n",
        "\n"
      ]
    },
    {
      "cell_type": "code",
      "metadata": {
        "colab": {
          "base_uri": "https://localhost:8080/"
        },
        "id": "92814881",
        "outputId": "28d5b7ae-8883-40e4-db23-150339c735ba"
      },
      "source": [
        "from google.colab import drive\n",
        "\n",
        "# Mount Google Drive\n",
        "drive.mount('/content/drive')"
      ],
      "execution_count": 1,
      "outputs": [
        {
          "output_type": "stream",
          "name": "stdout",
          "text": [
            "Drive already mounted at /content/drive; to attempt to forcibly remount, call drive.mount(\"/content/drive\", force_remount=True).\n"
          ]
        }
      ]
    },
    {
      "cell_type": "markdown",
      "metadata": {
        "id": "0e6d809d"
      },
      "source": [
        "**Reasoning**:\n",
        "Verify that the drive is successfully mounted by listing the contents of the mounted drive.\n",
        "\n"
      ]
    },
    {
      "cell_type": "code",
      "metadata": {
        "colab": {
          "base_uri": "https://localhost:8080/"
        },
        "id": "66fc05d6",
        "outputId": "6654d0aa-b5e0-4737-b8f1-6108b5173ac2"
      },
      "source": [
        "import os\n",
        "\n",
        "# Verify the drive is mounted\n",
        "print(os.listdir('/content/drive'))"
      ],
      "execution_count": 5,
      "outputs": [
        {
          "output_type": "stream",
          "name": "stdout",
          "text": [
            "['MyDrive', '.shortcut-targets-by-id', '.Trash-0', '.Encrypted']\n"
          ]
        }
      ]
    },
    {
      "cell_type": "markdown",
      "metadata": {
        "id": "eef05ccf"
      },
      "source": [
        "## Load models\n",
        "\n",
        "### Subtask:\n",
        "Load the two `.h5` models and one `.pth` model from Google Drive.\n"
      ]
    },
    {
      "cell_type": "markdown",
      "metadata": {
        "id": "3e853b0f"
      },
      "source": [
        "**Reasoning**:\n",
        "Define the file paths and load the two .h5 models and one .pth model from Google Drive.\n",
        "\n"
      ]
    },
    {
      "cell_type": "code",
      "metadata": {
        "colab": {
          "base_uri": "https://localhost:8080/",
          "height": 1000
        },
        "id": "b86011f9",
        "outputId": "f59444fc-5a8b-4372-d277-65edd2f78afb"
      },
      "source": [
        "import tensorflow as tf\n",
        "import torch\n",
        "\n",
        "# Define file paths to the models\n",
        "h5_model_path_1 = '/content/drive/MyDrive/Models/best_fine_tuned_model.h5'  # Replace with the actual path\n",
        "h5_model_path_2 = '/content/drive/MyDrive/Models/blood_cell_classifier_2.h5'  # Replace with the actual path\n",
        "pth_model_path = '/content/drive/MyDrive/Models/blood_cell_cnn_model.pth'  # Replace with the actual path\n",
        "\n",
        "# Load the first .h5 model\n",
        "h5_model_1 = tf.keras.models.load_model(h5_model_path_1)\n",
        "print(\"Loaded h5 model 1:\")\n",
        "h5_model_1.summary()\n",
        "\n",
        "# Load the second .h5 model\n",
        "h5_model_2 = tf.keras.models.load_model(h5_model_path_2)\n",
        "print(\"\\nLoaded h5 model 2:\")\n",
        "h5_model_2.summary()\n",
        "\n",
        "# Load the .pth model\n",
        "pth_model = torch.load(pth_model_path)\n",
        "print(\"\\nLoaded pth model:\")\n",
        "print(pth_model)"
      ],
      "execution_count": 6,
      "outputs": [
        {
          "output_type": "stream",
          "name": "stderr",
          "text": [
            "WARNING:absl:Compiled the loaded model, but the compiled metrics have yet to be built. `model.compile_metrics` will be empty until you train or evaluate the model.\n"
          ]
        },
        {
          "output_type": "stream",
          "name": "stdout",
          "text": [
            "Loaded h5 model 1:\n"
          ]
        },
        {
          "output_type": "display_data",
          "data": {
            "text/plain": [
              "\u001b[1mModel: \"sequential\"\u001b[0m\n"
            ],
            "text/html": [
              "<pre style=\"white-space:pre;overflow-x:auto;line-height:normal;font-family:Menlo,'DejaVu Sans Mono',consolas,'Courier New',monospace\"><span style=\"font-weight: bold\">Model: \"sequential\"</span>\n",
              "</pre>\n"
            ]
          },
          "metadata": {}
        },
        {
          "output_type": "display_data",
          "data": {
            "text/plain": [
              "┏━━━━━━━━━━━━━━━━━━━━━━━━━━━━━━━━━┳━━━━━━━━━━━━━━━━━━━━━━━━┳━━━━━━━━━━━━━━━┓\n",
              "┃\u001b[1m \u001b[0m\u001b[1mLayer (type)                   \u001b[0m\u001b[1m \u001b[0m┃\u001b[1m \u001b[0m\u001b[1mOutput Shape          \u001b[0m\u001b[1m \u001b[0m┃\u001b[1m \u001b[0m\u001b[1m      Param #\u001b[0m\u001b[1m \u001b[0m┃\n",
              "┡━━━━━━━━━━━━━━━━━━━━━━━━━━━━━━━━━╇━━━━━━━━━━━━━━━━━━━━━━━━╇━━━━━━━━━━━━━━━┩\n",
              "│ resnet50 (\u001b[38;5;33mFunctional\u001b[0m)           │ (\u001b[38;5;45mNone\u001b[0m, \u001b[38;5;34m2048\u001b[0m)           │    \u001b[38;5;34m23,587,712\u001b[0m │\n",
              "├─────────────────────────────────┼────────────────────────┼───────────────┤\n",
              "│ dense (\u001b[38;5;33mDense\u001b[0m)                   │ (\u001b[38;5;45mNone\u001b[0m, \u001b[38;5;34m512\u001b[0m)            │     \u001b[38;5;34m1,049,088\u001b[0m │\n",
              "├─────────────────────────────────┼────────────────────────┼───────────────┤\n",
              "│ dense_1 (\u001b[38;5;33mDense\u001b[0m)                 │ (\u001b[38;5;45mNone\u001b[0m, \u001b[38;5;34m5\u001b[0m)              │         \u001b[38;5;34m2,565\u001b[0m │\n",
              "└─────────────────────────────────┴────────────────────────┴───────────────┘\n"
            ],
            "text/html": [
              "<pre style=\"white-space:pre;overflow-x:auto;line-height:normal;font-family:Menlo,'DejaVu Sans Mono',consolas,'Courier New',monospace\">┏━━━━━━━━━━━━━━━━━━━━━━━━━━━━━━━━━┳━━━━━━━━━━━━━━━━━━━━━━━━┳━━━━━━━━━━━━━━━┓\n",
              "┃<span style=\"font-weight: bold\"> Layer (type)                    </span>┃<span style=\"font-weight: bold\"> Output Shape           </span>┃<span style=\"font-weight: bold\">       Param # </span>┃\n",
              "┡━━━━━━━━━━━━━━━━━━━━━━━━━━━━━━━━━╇━━━━━━━━━━━━━━━━━━━━━━━━╇━━━━━━━━━━━━━━━┩\n",
              "│ resnet50 (<span style=\"color: #0087ff; text-decoration-color: #0087ff\">Functional</span>)           │ (<span style=\"color: #00d7ff; text-decoration-color: #00d7ff\">None</span>, <span style=\"color: #00af00; text-decoration-color: #00af00\">2048</span>)           │    <span style=\"color: #00af00; text-decoration-color: #00af00\">23,587,712</span> │\n",
              "├─────────────────────────────────┼────────────────────────┼───────────────┤\n",
              "│ dense (<span style=\"color: #0087ff; text-decoration-color: #0087ff\">Dense</span>)                   │ (<span style=\"color: #00d7ff; text-decoration-color: #00d7ff\">None</span>, <span style=\"color: #00af00; text-decoration-color: #00af00\">512</span>)            │     <span style=\"color: #00af00; text-decoration-color: #00af00\">1,049,088</span> │\n",
              "├─────────────────────────────────┼────────────────────────┼───────────────┤\n",
              "│ dense_1 (<span style=\"color: #0087ff; text-decoration-color: #0087ff\">Dense</span>)                 │ (<span style=\"color: #00d7ff; text-decoration-color: #00d7ff\">None</span>, <span style=\"color: #00af00; text-decoration-color: #00af00\">5</span>)              │         <span style=\"color: #00af00; text-decoration-color: #00af00\">2,565</span> │\n",
              "└─────────────────────────────────┴────────────────────────┴───────────────┘\n",
              "</pre>\n"
            ]
          },
          "metadata": {}
        },
        {
          "output_type": "display_data",
          "data": {
            "text/plain": [
              "\u001b[1m Total params: \u001b[0m\u001b[38;5;34m24,639,367\u001b[0m (93.99 MB)\n"
            ],
            "text/html": [
              "<pre style=\"white-space:pre;overflow-x:auto;line-height:normal;font-family:Menlo,'DejaVu Sans Mono',consolas,'Courier New',monospace\"><span style=\"font-weight: bold\"> Total params: </span><span style=\"color: #00af00; text-decoration-color: #00af00\">24,639,367</span> (93.99 MB)\n",
              "</pre>\n"
            ]
          },
          "metadata": {}
        },
        {
          "output_type": "display_data",
          "data": {
            "text/plain": [
              "\u001b[1m Trainable params: \u001b[0m\u001b[38;5;34m16,027,653\u001b[0m (61.14 MB)\n"
            ],
            "text/html": [
              "<pre style=\"white-space:pre;overflow-x:auto;line-height:normal;font-family:Menlo,'DejaVu Sans Mono',consolas,'Courier New',monospace\"><span style=\"font-weight: bold\"> Trainable params: </span><span style=\"color: #00af00; text-decoration-color: #00af00\">16,027,653</span> (61.14 MB)\n",
              "</pre>\n"
            ]
          },
          "metadata": {}
        },
        {
          "output_type": "display_data",
          "data": {
            "text/plain": [
              "\u001b[1m Non-trainable params: \u001b[0m\u001b[38;5;34m8,611,712\u001b[0m (32.85 MB)\n"
            ],
            "text/html": [
              "<pre style=\"white-space:pre;overflow-x:auto;line-height:normal;font-family:Menlo,'DejaVu Sans Mono',consolas,'Courier New',monospace\"><span style=\"font-weight: bold\"> Non-trainable params: </span><span style=\"color: #00af00; text-decoration-color: #00af00\">8,611,712</span> (32.85 MB)\n",
              "</pre>\n"
            ]
          },
          "metadata": {}
        },
        {
          "output_type": "display_data",
          "data": {
            "text/plain": [
              "\u001b[1m Optimizer params: \u001b[0m\u001b[38;5;34m2\u001b[0m (12.00 B)\n"
            ],
            "text/html": [
              "<pre style=\"white-space:pre;overflow-x:auto;line-height:normal;font-family:Menlo,'DejaVu Sans Mono',consolas,'Courier New',monospace\"><span style=\"font-weight: bold\"> Optimizer params: </span><span style=\"color: #00af00; text-decoration-color: #00af00\">2</span> (12.00 B)\n",
              "</pre>\n"
            ]
          },
          "metadata": {}
        },
        {
          "output_type": "stream",
          "name": "stderr",
          "text": [
            "WARNING:absl:Compiled the loaded model, but the compiled metrics have yet to be built. `model.compile_metrics` will be empty until you train or evaluate the model.\n"
          ]
        },
        {
          "output_type": "stream",
          "name": "stdout",
          "text": [
            "\n",
            "Loaded h5 model 2:\n"
          ]
        },
        {
          "output_type": "display_data",
          "data": {
            "text/plain": [
              "\u001b[1mModel: \"sequential\"\u001b[0m\n"
            ],
            "text/html": [
              "<pre style=\"white-space:pre;overflow-x:auto;line-height:normal;font-family:Menlo,'DejaVu Sans Mono',consolas,'Courier New',monospace\"><span style=\"font-weight: bold\">Model: \"sequential\"</span>\n",
              "</pre>\n"
            ]
          },
          "metadata": {}
        },
        {
          "output_type": "display_data",
          "data": {
            "text/plain": [
              "┏━━━━━━━━━━━━━━━━━━━━━━━━━━━━━━━━━┳━━━━━━━━━━━━━━━━━━━━━━━━┳━━━━━━━━━━━━━━━┓\n",
              "┃\u001b[1m \u001b[0m\u001b[1mLayer (type)                   \u001b[0m\u001b[1m \u001b[0m┃\u001b[1m \u001b[0m\u001b[1mOutput Shape          \u001b[0m\u001b[1m \u001b[0m┃\u001b[1m \u001b[0m\u001b[1m      Param #\u001b[0m\u001b[1m \u001b[0m┃\n",
              "┡━━━━━━━━━━━━━━━━━━━━━━━━━━━━━━━━━╇━━━━━━━━━━━━━━━━━━━━━━━━╇━━━━━━━━━━━━━━━┩\n",
              "│ conv2d (\u001b[38;5;33mConv2D\u001b[0m)                 │ (\u001b[38;5;45mNone\u001b[0m, \u001b[38;5;34m126\u001b[0m, \u001b[38;5;34m126\u001b[0m, \u001b[38;5;34m32\u001b[0m)   │           \u001b[38;5;34m320\u001b[0m │\n",
              "├─────────────────────────────────┼────────────────────────┼───────────────┤\n",
              "│ batch_normalization             │ (\u001b[38;5;45mNone\u001b[0m, \u001b[38;5;34m126\u001b[0m, \u001b[38;5;34m126\u001b[0m, \u001b[38;5;34m32\u001b[0m)   │           \u001b[38;5;34m128\u001b[0m │\n",
              "│ (\u001b[38;5;33mBatchNormalization\u001b[0m)            │                        │               │\n",
              "├─────────────────────────────────┼────────────────────────┼───────────────┤\n",
              "│ max_pooling2d (\u001b[38;5;33mMaxPooling2D\u001b[0m)    │ (\u001b[38;5;45mNone\u001b[0m, \u001b[38;5;34m63\u001b[0m, \u001b[38;5;34m63\u001b[0m, \u001b[38;5;34m32\u001b[0m)     │             \u001b[38;5;34m0\u001b[0m │\n",
              "├─────────────────────────────────┼────────────────────────┼───────────────┤\n",
              "│ conv2d_1 (\u001b[38;5;33mConv2D\u001b[0m)               │ (\u001b[38;5;45mNone\u001b[0m, \u001b[38;5;34m61\u001b[0m, \u001b[38;5;34m61\u001b[0m, \u001b[38;5;34m64\u001b[0m)     │        \u001b[38;5;34m18,496\u001b[0m │\n",
              "├─────────────────────────────────┼────────────────────────┼───────────────┤\n",
              "│ batch_normalization_1           │ (\u001b[38;5;45mNone\u001b[0m, \u001b[38;5;34m61\u001b[0m, \u001b[38;5;34m61\u001b[0m, \u001b[38;5;34m64\u001b[0m)     │           \u001b[38;5;34m256\u001b[0m │\n",
              "│ (\u001b[38;5;33mBatchNormalization\u001b[0m)            │                        │               │\n",
              "├─────────────────────────────────┼────────────────────────┼───────────────┤\n",
              "│ max_pooling2d_1 (\u001b[38;5;33mMaxPooling2D\u001b[0m)  │ (\u001b[38;5;45mNone\u001b[0m, \u001b[38;5;34m30\u001b[0m, \u001b[38;5;34m30\u001b[0m, \u001b[38;5;34m64\u001b[0m)     │             \u001b[38;5;34m0\u001b[0m │\n",
              "├─────────────────────────────────┼────────────────────────┼───────────────┤\n",
              "│ conv2d_2 (\u001b[38;5;33mConv2D\u001b[0m)               │ (\u001b[38;5;45mNone\u001b[0m, \u001b[38;5;34m28\u001b[0m, \u001b[38;5;34m28\u001b[0m, \u001b[38;5;34m128\u001b[0m)    │        \u001b[38;5;34m73,856\u001b[0m │\n",
              "├─────────────────────────────────┼────────────────────────┼───────────────┤\n",
              "│ batch_normalization_2           │ (\u001b[38;5;45mNone\u001b[0m, \u001b[38;5;34m28\u001b[0m, \u001b[38;5;34m28\u001b[0m, \u001b[38;5;34m128\u001b[0m)    │           \u001b[38;5;34m512\u001b[0m │\n",
              "│ (\u001b[38;5;33mBatchNormalization\u001b[0m)            │                        │               │\n",
              "├─────────────────────────────────┼────────────────────────┼───────────────┤\n",
              "│ max_pooling2d_2 (\u001b[38;5;33mMaxPooling2D\u001b[0m)  │ (\u001b[38;5;45mNone\u001b[0m, \u001b[38;5;34m14\u001b[0m, \u001b[38;5;34m14\u001b[0m, \u001b[38;5;34m128\u001b[0m)    │             \u001b[38;5;34m0\u001b[0m │\n",
              "├─────────────────────────────────┼────────────────────────┼───────────────┤\n",
              "│ flatten (\u001b[38;5;33mFlatten\u001b[0m)               │ (\u001b[38;5;45mNone\u001b[0m, \u001b[38;5;34m25088\u001b[0m)          │             \u001b[38;5;34m0\u001b[0m │\n",
              "├─────────────────────────────────┼────────────────────────┼───────────────┤\n",
              "│ dense (\u001b[38;5;33mDense\u001b[0m)                   │ (\u001b[38;5;45mNone\u001b[0m, \u001b[38;5;34m256\u001b[0m)            │     \u001b[38;5;34m6,422,784\u001b[0m │\n",
              "├─────────────────────────────────┼────────────────────────┼───────────────┤\n",
              "│ batch_normalization_3           │ (\u001b[38;5;45mNone\u001b[0m, \u001b[38;5;34m256\u001b[0m)            │         \u001b[38;5;34m1,024\u001b[0m │\n",
              "│ (\u001b[38;5;33mBatchNormalization\u001b[0m)            │                        │               │\n",
              "├─────────────────────────────────┼────────────────────────┼───────────────┤\n",
              "│ dropout (\u001b[38;5;33mDropout\u001b[0m)               │ (\u001b[38;5;45mNone\u001b[0m, \u001b[38;5;34m256\u001b[0m)            │             \u001b[38;5;34m0\u001b[0m │\n",
              "├─────────────────────────────────┼────────────────────────┼───────────────┤\n",
              "│ dense_1 (\u001b[38;5;33mDense\u001b[0m)                 │ (\u001b[38;5;45mNone\u001b[0m, \u001b[38;5;34m5\u001b[0m)              │         \u001b[38;5;34m1,285\u001b[0m │\n",
              "└─────────────────────────────────┴────────────────────────┴───────────────┘\n"
            ],
            "text/html": [
              "<pre style=\"white-space:pre;overflow-x:auto;line-height:normal;font-family:Menlo,'DejaVu Sans Mono',consolas,'Courier New',monospace\">┏━━━━━━━━━━━━━━━━━━━━━━━━━━━━━━━━━┳━━━━━━━━━━━━━━━━━━━━━━━━┳━━━━━━━━━━━━━━━┓\n",
              "┃<span style=\"font-weight: bold\"> Layer (type)                    </span>┃<span style=\"font-weight: bold\"> Output Shape           </span>┃<span style=\"font-weight: bold\">       Param # </span>┃\n",
              "┡━━━━━━━━━━━━━━━━━━━━━━━━━━━━━━━━━╇━━━━━━━━━━━━━━━━━━━━━━━━╇━━━━━━━━━━━━━━━┩\n",
              "│ conv2d (<span style=\"color: #0087ff; text-decoration-color: #0087ff\">Conv2D</span>)                 │ (<span style=\"color: #00d7ff; text-decoration-color: #00d7ff\">None</span>, <span style=\"color: #00af00; text-decoration-color: #00af00\">126</span>, <span style=\"color: #00af00; text-decoration-color: #00af00\">126</span>, <span style=\"color: #00af00; text-decoration-color: #00af00\">32</span>)   │           <span style=\"color: #00af00; text-decoration-color: #00af00\">320</span> │\n",
              "├─────────────────────────────────┼────────────────────────┼───────────────┤\n",
              "│ batch_normalization             │ (<span style=\"color: #00d7ff; text-decoration-color: #00d7ff\">None</span>, <span style=\"color: #00af00; text-decoration-color: #00af00\">126</span>, <span style=\"color: #00af00; text-decoration-color: #00af00\">126</span>, <span style=\"color: #00af00; text-decoration-color: #00af00\">32</span>)   │           <span style=\"color: #00af00; text-decoration-color: #00af00\">128</span> │\n",
              "│ (<span style=\"color: #0087ff; text-decoration-color: #0087ff\">BatchNormalization</span>)            │                        │               │\n",
              "├─────────────────────────────────┼────────────────────────┼───────────────┤\n",
              "│ max_pooling2d (<span style=\"color: #0087ff; text-decoration-color: #0087ff\">MaxPooling2D</span>)    │ (<span style=\"color: #00d7ff; text-decoration-color: #00d7ff\">None</span>, <span style=\"color: #00af00; text-decoration-color: #00af00\">63</span>, <span style=\"color: #00af00; text-decoration-color: #00af00\">63</span>, <span style=\"color: #00af00; text-decoration-color: #00af00\">32</span>)     │             <span style=\"color: #00af00; text-decoration-color: #00af00\">0</span> │\n",
              "├─────────────────────────────────┼────────────────────────┼───────────────┤\n",
              "│ conv2d_1 (<span style=\"color: #0087ff; text-decoration-color: #0087ff\">Conv2D</span>)               │ (<span style=\"color: #00d7ff; text-decoration-color: #00d7ff\">None</span>, <span style=\"color: #00af00; text-decoration-color: #00af00\">61</span>, <span style=\"color: #00af00; text-decoration-color: #00af00\">61</span>, <span style=\"color: #00af00; text-decoration-color: #00af00\">64</span>)     │        <span style=\"color: #00af00; text-decoration-color: #00af00\">18,496</span> │\n",
              "├─────────────────────────────────┼────────────────────────┼───────────────┤\n",
              "│ batch_normalization_1           │ (<span style=\"color: #00d7ff; text-decoration-color: #00d7ff\">None</span>, <span style=\"color: #00af00; text-decoration-color: #00af00\">61</span>, <span style=\"color: #00af00; text-decoration-color: #00af00\">61</span>, <span style=\"color: #00af00; text-decoration-color: #00af00\">64</span>)     │           <span style=\"color: #00af00; text-decoration-color: #00af00\">256</span> │\n",
              "│ (<span style=\"color: #0087ff; text-decoration-color: #0087ff\">BatchNormalization</span>)            │                        │               │\n",
              "├─────────────────────────────────┼────────────────────────┼───────────────┤\n",
              "│ max_pooling2d_1 (<span style=\"color: #0087ff; text-decoration-color: #0087ff\">MaxPooling2D</span>)  │ (<span style=\"color: #00d7ff; text-decoration-color: #00d7ff\">None</span>, <span style=\"color: #00af00; text-decoration-color: #00af00\">30</span>, <span style=\"color: #00af00; text-decoration-color: #00af00\">30</span>, <span style=\"color: #00af00; text-decoration-color: #00af00\">64</span>)     │             <span style=\"color: #00af00; text-decoration-color: #00af00\">0</span> │\n",
              "├─────────────────────────────────┼────────────────────────┼───────────────┤\n",
              "│ conv2d_2 (<span style=\"color: #0087ff; text-decoration-color: #0087ff\">Conv2D</span>)               │ (<span style=\"color: #00d7ff; text-decoration-color: #00d7ff\">None</span>, <span style=\"color: #00af00; text-decoration-color: #00af00\">28</span>, <span style=\"color: #00af00; text-decoration-color: #00af00\">28</span>, <span style=\"color: #00af00; text-decoration-color: #00af00\">128</span>)    │        <span style=\"color: #00af00; text-decoration-color: #00af00\">73,856</span> │\n",
              "├─────────────────────────────────┼────────────────────────┼───────────────┤\n",
              "│ batch_normalization_2           │ (<span style=\"color: #00d7ff; text-decoration-color: #00d7ff\">None</span>, <span style=\"color: #00af00; text-decoration-color: #00af00\">28</span>, <span style=\"color: #00af00; text-decoration-color: #00af00\">28</span>, <span style=\"color: #00af00; text-decoration-color: #00af00\">128</span>)    │           <span style=\"color: #00af00; text-decoration-color: #00af00\">512</span> │\n",
              "│ (<span style=\"color: #0087ff; text-decoration-color: #0087ff\">BatchNormalization</span>)            │                        │               │\n",
              "├─────────────────────────────────┼────────────────────────┼───────────────┤\n",
              "│ max_pooling2d_2 (<span style=\"color: #0087ff; text-decoration-color: #0087ff\">MaxPooling2D</span>)  │ (<span style=\"color: #00d7ff; text-decoration-color: #00d7ff\">None</span>, <span style=\"color: #00af00; text-decoration-color: #00af00\">14</span>, <span style=\"color: #00af00; text-decoration-color: #00af00\">14</span>, <span style=\"color: #00af00; text-decoration-color: #00af00\">128</span>)    │             <span style=\"color: #00af00; text-decoration-color: #00af00\">0</span> │\n",
              "├─────────────────────────────────┼────────────────────────┼───────────────┤\n",
              "│ flatten (<span style=\"color: #0087ff; text-decoration-color: #0087ff\">Flatten</span>)               │ (<span style=\"color: #00d7ff; text-decoration-color: #00d7ff\">None</span>, <span style=\"color: #00af00; text-decoration-color: #00af00\">25088</span>)          │             <span style=\"color: #00af00; text-decoration-color: #00af00\">0</span> │\n",
              "├─────────────────────────────────┼────────────────────────┼───────────────┤\n",
              "│ dense (<span style=\"color: #0087ff; text-decoration-color: #0087ff\">Dense</span>)                   │ (<span style=\"color: #00d7ff; text-decoration-color: #00d7ff\">None</span>, <span style=\"color: #00af00; text-decoration-color: #00af00\">256</span>)            │     <span style=\"color: #00af00; text-decoration-color: #00af00\">6,422,784</span> │\n",
              "├─────────────────────────────────┼────────────────────────┼───────────────┤\n",
              "│ batch_normalization_3           │ (<span style=\"color: #00d7ff; text-decoration-color: #00d7ff\">None</span>, <span style=\"color: #00af00; text-decoration-color: #00af00\">256</span>)            │         <span style=\"color: #00af00; text-decoration-color: #00af00\">1,024</span> │\n",
              "│ (<span style=\"color: #0087ff; text-decoration-color: #0087ff\">BatchNormalization</span>)            │                        │               │\n",
              "├─────────────────────────────────┼────────────────────────┼───────────────┤\n",
              "│ dropout (<span style=\"color: #0087ff; text-decoration-color: #0087ff\">Dropout</span>)               │ (<span style=\"color: #00d7ff; text-decoration-color: #00d7ff\">None</span>, <span style=\"color: #00af00; text-decoration-color: #00af00\">256</span>)            │             <span style=\"color: #00af00; text-decoration-color: #00af00\">0</span> │\n",
              "├─────────────────────────────────┼────────────────────────┼───────────────┤\n",
              "│ dense_1 (<span style=\"color: #0087ff; text-decoration-color: #0087ff\">Dense</span>)                 │ (<span style=\"color: #00d7ff; text-decoration-color: #00d7ff\">None</span>, <span style=\"color: #00af00; text-decoration-color: #00af00\">5</span>)              │         <span style=\"color: #00af00; text-decoration-color: #00af00\">1,285</span> │\n",
              "└─────────────────────────────────┴────────────────────────┴───────────────┘\n",
              "</pre>\n"
            ]
          },
          "metadata": {}
        },
        {
          "output_type": "display_data",
          "data": {
            "text/plain": [
              "\u001b[1m Total params: \u001b[0m\u001b[38;5;34m6,518,663\u001b[0m (24.87 MB)\n"
            ],
            "text/html": [
              "<pre style=\"white-space:pre;overflow-x:auto;line-height:normal;font-family:Menlo,'DejaVu Sans Mono',consolas,'Courier New',monospace\"><span style=\"font-weight: bold\"> Total params: </span><span style=\"color: #00af00; text-decoration-color: #00af00\">6,518,663</span> (24.87 MB)\n",
              "</pre>\n"
            ]
          },
          "metadata": {}
        },
        {
          "output_type": "display_data",
          "data": {
            "text/plain": [
              "\u001b[1m Trainable params: \u001b[0m\u001b[38;5;34m6,517,701\u001b[0m (24.86 MB)\n"
            ],
            "text/html": [
              "<pre style=\"white-space:pre;overflow-x:auto;line-height:normal;font-family:Menlo,'DejaVu Sans Mono',consolas,'Courier New',monospace\"><span style=\"font-weight: bold\"> Trainable params: </span><span style=\"color: #00af00; text-decoration-color: #00af00\">6,517,701</span> (24.86 MB)\n",
              "</pre>\n"
            ]
          },
          "metadata": {}
        },
        {
          "output_type": "display_data",
          "data": {
            "text/plain": [
              "\u001b[1m Non-trainable params: \u001b[0m\u001b[38;5;34m960\u001b[0m (3.75 KB)\n"
            ],
            "text/html": [
              "<pre style=\"white-space:pre;overflow-x:auto;line-height:normal;font-family:Menlo,'DejaVu Sans Mono',consolas,'Courier New',monospace\"><span style=\"font-weight: bold\"> Non-trainable params: </span><span style=\"color: #00af00; text-decoration-color: #00af00\">960</span> (3.75 KB)\n",
              "</pre>\n"
            ]
          },
          "metadata": {}
        },
        {
          "output_type": "display_data",
          "data": {
            "text/plain": [
              "\u001b[1m Optimizer params: \u001b[0m\u001b[38;5;34m2\u001b[0m (12.00 B)\n"
            ],
            "text/html": [
              "<pre style=\"white-space:pre;overflow-x:auto;line-height:normal;font-family:Menlo,'DejaVu Sans Mono',consolas,'Courier New',monospace\"><span style=\"font-weight: bold\"> Optimizer params: </span><span style=\"color: #00af00; text-decoration-color: #00af00\">2</span> (12.00 B)\n",
              "</pre>\n"
            ]
          },
          "metadata": {}
        },
        {
          "output_type": "stream",
          "name": "stdout",
          "text": [
            "\n",
            "Loaded pth model:\n",
            "OrderedDict({'conv1.weight': tensor([[[[-1.2599e-01, -1.2626e-01,  6.0242e-02],\n",
            "          [ 2.2245e-02,  4.0044e-02,  1.3424e-01],\n",
            "          [-1.1550e-01, -4.3047e-02,  6.6845e-02]],\n",
            "\n",
            "         [[-2.4931e-02,  1.2860e-01, -1.6636e-01],\n",
            "          [ 1.0822e-01, -5.3198e-02, -1.2506e-01],\n",
            "          [ 1.1580e-01, -5.7935e-02,  5.7673e-02]],\n",
            "\n",
            "         [[-8.0658e-02,  1.0612e-02,  4.1124e-02],\n",
            "          [ 1.7298e-01,  4.8898e-03,  1.0029e-01],\n",
            "          [ 1.0275e-01, -1.5030e-01,  1.0453e-01]]],\n",
            "\n",
            "\n",
            "        [[[ 1.5599e-01,  2.0203e-02,  2.0137e-02],\n",
            "          [-5.8819e-03,  5.0895e-02,  2.1395e-01],\n",
            "          [-8.8045e-02, -1.4928e-01,  2.0579e-01]],\n",
            "\n",
            "         [[ 8.3765e-02,  2.0410e-02, -1.1927e-01],\n",
            "          [-1.5691e-01,  1.3071e-01, -1.0562e-01],\n",
            "          [ 9.2050e-02,  1.1859e-01,  3.1211e-02]],\n",
            "\n",
            "         [[ 2.1318e-02, -5.8178e-02, -2.7884e-04],\n",
            "          [-5.1760e-02, -4.5861e-02,  3.6442e-02],\n",
            "          [-3.5052e-03,  7.8250e-02,  3.2157e-02]]],\n",
            "\n",
            "\n",
            "        [[[-1.5888e-02,  7.8269e-02,  8.2976e-02],\n",
            "          [ 7.4547e-02, -1.0407e-01,  9.4970e-02],\n",
            "          [-4.5274e-03, -9.4242e-02,  2.8268e-02]],\n",
            "\n",
            "         [[ 2.6258e-02, -6.9437e-02, -2.0270e-01],\n",
            "          [-7.0790e-03,  6.0115e-02,  1.2087e-01],\n",
            "          [-7.4945e-02, -1.5406e-01, -1.6281e-01]],\n",
            "\n",
            "         [[ 1.4334e-01,  1.6473e-01,  5.3593e-02],\n",
            "          [ 7.6297e-02, -1.4211e-01,  1.5293e-01],\n",
            "          [-8.2726e-02, -8.8507e-02,  9.1853e-02]]],\n",
            "\n",
            "\n",
            "        [[[-2.7341e-01,  3.0800e-02, -4.8036e-02],\n",
            "          [ 2.1264e-02, -5.5810e-02,  1.6916e-01],\n",
            "          [-1.4034e-01,  1.7416e-01,  2.2568e-01]],\n",
            "\n",
            "         [[-1.1944e-01, -9.6298e-02,  1.3426e-01],\n",
            "          [ 2.3922e-02,  3.8752e-03,  9.6866e-02],\n",
            "          [ 5.0172e-02, -2.3982e-02, -1.7995e-01]],\n",
            "\n",
            "         [[ 1.0894e-01,  1.4759e-01, -1.4503e-01],\n",
            "          [-1.1508e-01,  4.7035e-02, -5.1028e-02],\n",
            "          [-4.2676e-02,  2.8785e-02, -1.1447e-01]]],\n",
            "\n",
            "\n",
            "        [[[-8.2690e-02, -2.2326e-01, -1.7451e-01],\n",
            "          [ 7.6451e-02, -1.1399e-01, -7.8584e-02],\n",
            "          [-1.9176e-01, -2.0609e-01,  3.9435e-02]],\n",
            "\n",
            "         [[ 1.3530e-01,  8.1130e-02,  8.6989e-02],\n",
            "          [-1.1177e-01, -9.9971e-03,  8.1949e-02],\n",
            "          [ 1.3284e-01,  9.3238e-02, -1.9437e-01]],\n",
            "\n",
            "         [[-1.1080e-01, -5.9524e-02, -2.0499e-02],\n",
            "          [ 2.6702e-04, -9.3974e-02, -4.8156e-03],\n",
            "          [-1.4337e-01, -9.8374e-02, -2.7018e-02]]],\n",
            "\n",
            "\n",
            "        [[[-1.2426e-01,  1.3615e-01, -9.9497e-02],\n",
            "          [-5.0401e-02,  2.1247e-01,  1.9869e-01],\n",
            "          [ 1.1184e-01,  9.9606e-02, -1.0115e-01]],\n",
            "\n",
            "         [[-8.2387e-02,  1.4864e-01,  1.5963e-01],\n",
            "          [-1.7804e-01,  6.0859e-02, -5.1849e-02],\n",
            "          [-8.4805e-02, -1.5266e-01,  3.9460e-02]],\n",
            "\n",
            "         [[-9.1011e-02, -1.6349e-01, -2.1376e-01],\n",
            "          [ 3.8052e-02,  9.5886e-02,  3.4533e-02],\n",
            "          [-6.8944e-02, -5.6463e-02,  6.3946e-02]]]]), 'conv1.bias': tensor([ 0.0288, -0.0121, -0.0527, -0.0821,  0.1361,  0.1774]), 'conv2.weight': tensor([[[[-1.1611e-01,  2.9646e-03,  1.2218e-01],\n",
            "          [-1.3461e-01, -3.2328e-02,  5.4323e-02],\n",
            "          [ 5.9503e-02, -5.0898e-02, -9.4080e-02]],\n",
            "\n",
            "         [[ 3.6406e-02,  7.1731e-02,  9.6077e-02],\n",
            "          [ 3.7367e-02,  6.1019e-02,  5.0837e-02],\n",
            "          [ 3.0412e-02, -5.0950e-02, -4.0989e-02]],\n",
            "\n",
            "         [[ 1.0193e-02, -6.4811e-02, -2.5564e-02],\n",
            "          [ 1.1899e-01, -5.0946e-02,  1.0605e-01],\n",
            "          [ 1.6424e-01,  5.4169e-02, -2.4923e-02]],\n",
            "\n",
            "         [[ 1.9120e-01,  1.4644e-01,  1.5868e-01],\n",
            "          [ 3.2077e-01,  3.0412e-01,  1.8406e-01],\n",
            "          [ 2.5745e-01,  1.5822e-01,  2.5324e-01]],\n",
            "\n",
            "         [[-4.1510e-02, -1.0978e-01,  4.4832e-02],\n",
            "          [-5.8238e-02,  7.7591e-02,  3.4541e-03],\n",
            "          [ 5.3439e-02,  7.4215e-02,  3.4388e-02]],\n",
            "\n",
            "         [[ 8.8372e-02,  8.7608e-02,  1.9813e-01],\n",
            "          [ 1.3273e-01,  2.2633e-01,  4.8187e-02],\n",
            "          [ 2.2759e-02,  6.7960e-02, -2.9430e-02]]],\n",
            "\n",
            "\n",
            "        [[[-1.6272e-01, -1.4264e-01,  8.4217e-03],\n",
            "          [-7.8150e-02,  5.1234e-02, -1.1718e-01],\n",
            "          [ 4.2747e-02, -1.3313e-01, -9.7528e-02]],\n",
            "\n",
            "         [[-1.0739e-01, -8.9150e-02,  9.7746e-02],\n",
            "          [-5.7276e-02,  7.3444e-02, -1.4517e-01],\n",
            "          [-7.9961e-02, -9.0923e-02, -1.9586e-02]],\n",
            "\n",
            "         [[-1.0480e-01, -2.6236e-03, -1.4811e-01],\n",
            "          [ 3.5073e-02, -4.4779e-02,  1.7181e-02],\n",
            "          [ 1.0074e-01, -3.7216e-02, -7.0733e-03]],\n",
            "\n",
            "         [[-9.1531e-02, -4.1231e-02, -5.0446e-02],\n",
            "          [ 4.4902e-02, -1.4424e-02, -1.5520e-01],\n",
            "          [-1.2056e-01, -1.3066e-01,  6.5790e-02]],\n",
            "\n",
            "         [[-9.5691e-02,  9.4533e-02, -6.5646e-02],\n",
            "          [ 2.6962e-02, -1.8136e-02, -6.0476e-02],\n",
            "          [ 8.4922e-02,  3.0866e-02,  1.9113e-02]],\n",
            "\n",
            "         [[ 3.7716e-03,  3.9208e-02,  1.9606e-03],\n",
            "          [-3.5096e-02, -1.0166e-01,  7.1024e-02],\n",
            "          [-1.4348e-01, -1.3204e-01, -1.3086e-01]]],\n",
            "\n",
            "\n",
            "        [[[ 9.2831e-02,  6.4086e-02, -3.2896e-02],\n",
            "          [ 4.7498e-02,  9.6406e-02, -4.6445e-02],\n",
            "          [ 9.2431e-02,  3.8879e-02, -7.0762e-02]],\n",
            "\n",
            "         [[ 5.5693e-02,  1.4587e-02, -8.7719e-02],\n",
            "          [-4.5009e-02, -3.6763e-02, -1.1799e-01],\n",
            "          [ 1.0095e-01,  4.2652e-02,  3.2381e-03]],\n",
            "\n",
            "         [[ 3.1816e-02,  7.9627e-02,  8.0521e-02],\n",
            "          [-3.7223e-02,  9.0479e-02, -5.9205e-02],\n",
            "          [ 6.0479e-02,  1.5026e-02, -1.8752e-02]],\n",
            "\n",
            "         [[ 2.7945e-02, -9.3801e-02,  3.0871e-02],\n",
            "          [ 9.0231e-02, -4.3281e-02,  1.8194e-02],\n",
            "          [-2.3888e-04,  8.7372e-02,  1.1808e-02]],\n",
            "\n",
            "         [[-1.4157e-02, -1.3895e-01,  2.0614e-03],\n",
            "          [-2.0861e-01, -1.6764e-01, -1.6251e-01],\n",
            "          [-5.1222e-02, -5.6765e-02, -6.2093e-02]],\n",
            "\n",
            "         [[ 1.4780e-02, -4.7412e-02,  9.5754e-02],\n",
            "          [-6.0609e-02, -1.1649e-01, -7.0438e-02],\n",
            "          [-8.9683e-02, -6.6175e-02, -4.9458e-02]]],\n",
            "\n",
            "\n",
            "        [[[ 3.5380e-04, -3.9046e-03,  1.2332e-01],\n",
            "          [ 7.9349e-02, -8.6369e-03, -6.0927e-02],\n",
            "          [-1.8318e-02,  3.9891e-02,  8.8819e-02]],\n",
            "\n",
            "         [[-1.5553e-01, -1.0453e-01, -1.1212e-01],\n",
            "          [-1.7890e-01, -5.9467e-02, -1.3550e-01],\n",
            "          [-2.3823e-01, -1.6780e-01, -1.9166e-01]],\n",
            "\n",
            "         [[ 6.0324e-02,  9.9552e-02,  1.2795e-01],\n",
            "          [ 4.5882e-02,  6.2924e-02,  3.9119e-02],\n",
            "          [ 8.7813e-02,  8.5637e-02,  1.2535e-02]],\n",
            "\n",
            "         [[ 7.9976e-02, -5.7821e-02,  4.4022e-02],\n",
            "          [-1.7324e-01,  7.3134e-02, -1.4492e-02],\n",
            "          [ 7.2469e-02,  2.0618e-02, -1.6814e-02]],\n",
            "\n",
            "         [[-2.6823e-02,  3.2088e-02, -3.0980e-02],\n",
            "          [-1.0439e-01, -2.0649e-01, -2.7221e-02],\n",
            "          [-5.2705e-02,  1.7269e-02,  8.7047e-03]],\n",
            "\n",
            "         [[-6.0062e-02,  6.5350e-02, -8.7499e-02],\n",
            "          [ 1.2989e-02, -1.1340e-04,  3.6913e-02],\n",
            "          [-7.4806e-02,  8.7272e-02,  3.5591e-02]]],\n",
            "\n",
            "\n",
            "        [[[-6.9169e-02, -9.6137e-02,  1.0258e-01],\n",
            "          [ 7.8572e-02,  1.3101e-01, -8.1579e-02],\n",
            "          [-2.2132e-02, -1.1038e-01, -1.7703e-02]],\n",
            "\n",
            "         [[ 1.2120e-01, -1.3414e-01,  3.2140e-02],\n",
            "          [ 4.6175e-02, -4.5770e-02,  3.3733e-02],\n",
            "          [ 1.6911e-02, -6.8466e-02, -1.1862e-01]],\n",
            "\n",
            "         [[ 9.3022e-02,  1.1795e-01,  2.2909e-02],\n",
            "          [ 1.3166e-01,  1.0812e-01,  4.3278e-02],\n",
            "          [ 1.1810e-01, -7.7150e-02, -9.9842e-03]],\n",
            "\n",
            "         [[ 6.7844e-03,  6.1597e-02,  9.3550e-02],\n",
            "          [ 6.0092e-02,  5.2908e-02, -1.4624e-01],\n",
            "          [-1.3869e-01, -9.5934e-02,  7.8523e-02]],\n",
            "\n",
            "         [[-2.0735e-01,  3.0503e-02, -1.4939e-01],\n",
            "          [-1.9908e-01, -1.8655e-01, -2.0031e-01],\n",
            "          [-4.7348e-02, -1.9640e-01, -1.2862e-01]],\n",
            "\n",
            "         [[-4.5481e-02,  7.7654e-02,  6.7323e-02],\n",
            "          [ 7.8227e-02, -6.2489e-02, -1.4416e-01],\n",
            "          [-1.0478e-01,  1.8266e-03,  8.7765e-03]]],\n",
            "\n",
            "\n",
            "        [[[-1.3034e-01, -9.9064e-02, -9.4997e-02],\n",
            "          [ 5.6321e-02, -8.6411e-02, -3.5635e-03],\n",
            "          [-2.6820e-02, -8.4604e-02, -6.0175e-02]],\n",
            "\n",
            "         [[ 2.2092e-02, -1.0878e-01, -1.2289e-01],\n",
            "          [-3.4415e-02,  3.3131e-02,  4.7501e-02],\n",
            "          [-1.0404e-01, -6.4032e-02,  8.2476e-02]],\n",
            "\n",
            "         [[-4.5469e-02, -1.4226e-01, -3.4144e-02],\n",
            "          [ 7.7094e-02, -2.2215e-02,  8.0035e-02],\n",
            "          [ 8.9133e-02,  5.8080e-03,  5.0027e-02]],\n",
            "\n",
            "         [[ 7.6115e-02,  8.1282e-02,  1.5529e-01],\n",
            "          [ 9.2638e-02, -2.5378e-03, -1.6844e-03],\n",
            "          [ 2.6837e-01,  2.0838e-01,  2.9479e-02]],\n",
            "\n",
            "         [[-1.5619e-01,  2.6552e-03, -2.1432e-02],\n",
            "          [-5.5331e-02, -1.1781e-01,  6.3414e-02],\n",
            "          [-5.6315e-02, -7.5087e-02, -4.1056e-02]],\n",
            "\n",
            "         [[ 1.2197e-01,  8.3909e-02,  1.9059e-01],\n",
            "          [ 1.6241e-01,  9.1620e-02,  8.7013e-02],\n",
            "          [ 1.7720e-01,  5.6985e-02,  1.3492e-01]]],\n",
            "\n",
            "\n",
            "        [[[ 4.6911e-02, -1.0226e-01, -7.0849e-02],\n",
            "          [-5.7223e-02,  3.4234e-02, -1.5574e-02],\n",
            "          [ 4.7026e-02, -8.7951e-02, -8.8587e-02]],\n",
            "\n",
            "         [[-1.1609e-01, -2.5897e-02,  2.8386e-02],\n",
            "          [-1.7656e-01, -3.6851e-02, -1.7341e-01],\n",
            "          [-9.3115e-02, -7.4465e-02, -7.7337e-02]],\n",
            "\n",
            "         [[ 8.8386e-02, -6.8172e-02, -1.7145e-02],\n",
            "          [ 1.1960e-01, -7.7634e-03, -6.0932e-02],\n",
            "          [ 8.3765e-02, -6.1286e-02, -1.5917e-02]],\n",
            "\n",
            "         [[ 4.4961e-02,  4.9927e-02, -7.8978e-02],\n",
            "          [ 1.0155e-01, -3.2718e-02,  8.8050e-02],\n",
            "          [-1.9581e-02, -9.1517e-02,  1.0548e-01]],\n",
            "\n",
            "         [[ 4.3818e-02, -3.0552e-02,  5.6303e-02],\n",
            "          [-3.1651e-02, -7.5405e-02,  4.2827e-03],\n",
            "          [-6.8917e-02, -4.8337e-02,  1.7316e-02]],\n",
            "\n",
            "         [[-1.2730e-01,  4.0719e-02, -1.0173e-01],\n",
            "          [ 2.1045e-02, -8.8181e-03,  5.9446e-03],\n",
            "          [-8.4023e-02, -4.8727e-02, -2.9725e-02]]],\n",
            "\n",
            "\n",
            "        [[[ 9.2828e-02, -2.7894e-02,  1.2690e-01],\n",
            "          [ 2.3970e-02,  9.1052e-02, -7.6589e-02],\n",
            "          [ 1.5826e-02, -1.1839e-01,  4.2774e-02]],\n",
            "\n",
            "         [[ 2.3568e-02,  1.0179e-01, -1.1567e-01],\n",
            "          [-1.4298e-01,  1.1559e-01,  5.8212e-02],\n",
            "          [ 7.1031e-02, -7.6562e-02, -1.0404e-01]],\n",
            "\n",
            "         [[-1.2803e-01,  8.1153e-02, -6.6737e-02],\n",
            "          [-6.6040e-02,  1.0423e-01,  8.2336e-02],\n",
            "          [-1.0639e-02, -8.8263e-02, -1.7754e-02]],\n",
            "\n",
            "         [[-1.0546e-02,  4.7598e-02,  2.0184e-01],\n",
            "          [ 1.7362e-01,  7.2329e-02,  2.0216e-01],\n",
            "          [ 3.6025e-02, -1.0213e-01, -1.0283e-02]],\n",
            "\n",
            "         [[-3.6033e-02,  5.1371e-03, -1.5344e-02],\n",
            "          [ 5.4041e-04,  1.4371e-02,  8.1844e-02],\n",
            "          [-6.9681e-02, -7.6372e-02, -8.8946e-02]],\n",
            "\n",
            "         [[-3.1841e-02, -9.4474e-02,  1.1864e-01],\n",
            "          [ 1.6633e-01,  1.3489e-01,  1.3771e-01],\n",
            "          [ 9.2374e-02, -7.6283e-02, -3.7775e-02]]],\n",
            "\n",
            "\n",
            "        [[[ 1.4231e-01,  1.4344e-01, -1.0924e-01],\n",
            "          [-6.4303e-02, -1.8515e-02,  8.5645e-03],\n",
            "          [ 3.4336e-02, -9.8378e-02,  1.2419e-01]],\n",
            "\n",
            "         [[-2.2080e-01, -1.0054e-01, -1.5591e-01],\n",
            "          [-1.2565e-01, -1.1422e-01, -1.3032e-02],\n",
            "          [-2.0500e-01,  2.2631e-02, -2.0147e-01]],\n",
            "\n",
            "         [[ 1.4156e-01,  1.7802e-01,  1.1780e-01],\n",
            "          [ 8.2502e-02,  1.8066e-02, -5.8447e-02],\n",
            "          [-8.0919e-02,  1.4334e-01,  1.7263e-03]],\n",
            "\n",
            "         [[ 1.1002e-01, -1.0779e-01,  1.8270e-02],\n",
            "          [-2.9754e-02, -4.7911e-03, -3.9642e-03],\n",
            "          [-4.7702e-02,  5.7059e-02,  9.9159e-02]],\n",
            "\n",
            "         [[ 1.5492e-03,  5.2672e-02, -1.7237e-02],\n",
            "          [ 2.0152e-02, -7.0915e-02, -1.9021e-02],\n",
            "          [-6.8457e-02, -5.5145e-03, -1.7004e-02]],\n",
            "\n",
            "         [[ 1.2444e-01, -2.6537e-02,  4.4708e-02],\n",
            "          [-5.0603e-03,  1.0023e-01, -6.2388e-02],\n",
            "          [ 1.5098e-03,  1.0911e-01, -3.8102e-02]]],\n",
            "\n",
            "\n",
            "        [[[-6.6964e-02,  5.3643e-02,  7.4858e-03],\n",
            "          [-1.3917e-01, -1.5026e-01, -1.1840e-01],\n",
            "          [-4.2325e-02, -4.8473e-02, -1.1445e-01]],\n",
            "\n",
            "         [[-1.4348e-01, -1.5587e-04, -4.9084e-02],\n",
            "          [-1.3438e-01,  6.3863e-02, -1.4450e-02],\n",
            "          [-1.2101e-01,  1.7145e-02, -1.0878e-01]],\n",
            "\n",
            "         [[-8.4988e-02,  6.0598e-02, -1.2974e-01],\n",
            "          [-1.0103e-01, -5.4596e-02,  4.1212e-02],\n",
            "          [ 8.9277e-02, -1.0998e-01,  7.4494e-02]],\n",
            "\n",
            "         [[ 4.6288e-02, -9.8196e-02, -2.4754e-02],\n",
            "          [ 7.8513e-02, -6.8767e-02, -1.2704e-01],\n",
            "          [-2.3492e-02,  8.5931e-02, -7.9567e-02]],\n",
            "\n",
            "         [[ 6.4410e-02, -1.0314e-01,  3.8888e-02],\n",
            "          [ 8.3356e-02, -7.3356e-03, -3.7394e-03],\n",
            "          [-1.0490e-01,  7.3493e-02, -6.3613e-02]],\n",
            "\n",
            "         [[-8.2011e-02, -1.4508e-02,  5.4435e-02],\n",
            "          [-3.2445e-02, -1.4279e-01, -1.7494e-02],\n",
            "          [-9.7299e-02,  9.6864e-02, -1.2930e-01]]],\n",
            "\n",
            "\n",
            "        [[[ 9.1033e-02,  1.1043e-01, -3.9545e-02],\n",
            "          [-8.2985e-02, -1.0413e-01,  2.9315e-02],\n",
            "          [ 2.8813e-04,  1.0675e-01, -1.1282e-01]],\n",
            "\n",
            "         [[ 1.4108e-02,  9.0439e-02, -4.4505e-03],\n",
            "          [ 7.6767e-02, -1.4552e-02, -1.1310e-01],\n",
            "          [-6.3160e-02, -1.1356e-02,  1.0092e-01]],\n",
            "\n",
            "         [[-1.8735e-02,  9.1306e-02,  1.1754e-01],\n",
            "          [ 4.3639e-02, -1.7746e-02,  3.4703e-02],\n",
            "          [ 1.0823e-01,  9.3703e-02, -5.4511e-02]],\n",
            "\n",
            "         [[-1.8207e-01, -1.6645e-01, -1.1422e-01],\n",
            "          [-1.4196e-01, -3.4667e-02, -3.1581e-02],\n",
            "          [ 4.8371e-02, -3.0052e-02, -1.2544e-01]],\n",
            "\n",
            "         [[ 1.1796e-01, -1.6334e-03, -1.3609e-02],\n",
            "          [ 1.7326e-01,  1.0532e-01,  1.1553e-01],\n",
            "          [ 2.6840e-02,  1.5512e-01, -1.0762e-02]],\n",
            "\n",
            "         [[-1.7925e-01, -1.5537e-01, -2.3335e-01],\n",
            "          [-7.8290e-02, -8.6439e-02, -2.1805e-01],\n",
            "          [-2.3396e-01, -6.2739e-02, -1.2168e-01]]],\n",
            "\n",
            "\n",
            "        [[[-6.6150e-02,  4.3684e-02, -8.1258e-02],\n",
            "          [-2.3681e-02,  4.0740e-02,  7.2135e-02],\n",
            "          [ 1.3691e-01, -3.4335e-02, -1.1780e-01]],\n",
            "\n",
            "         [[ 1.1922e-01, -9.1506e-02, -8.2926e-02],\n",
            "          [-2.5939e-02, -7.0242e-02, -4.0205e-02],\n",
            "          [-4.2644e-02,  6.1559e-02,  4.7393e-02]],\n",
            "\n",
            "         [[-2.2969e-02, -8.2476e-02,  8.3668e-02],\n",
            "          [ 1.2079e-01, -9.9106e-02, -4.1576e-02],\n",
            "          [-8.6510e-02, -6.8549e-02,  9.0856e-02]],\n",
            "\n",
            "         [[-1.4158e-02,  8.8172e-02, -4.1322e-02],\n",
            "          [ 1.3670e-01, -1.0143e-01, -4.3779e-02],\n",
            "          [ 2.0606e-01,  1.9437e-01, -6.9033e-02]],\n",
            "\n",
            "         [[-5.4805e-02, -5.3493e-02, -6.4805e-02],\n",
            "          [-1.2829e-01,  6.2600e-02,  1.0433e-01],\n",
            "          [ 4.8465e-02,  3.9167e-02, -1.4322e-01]],\n",
            "\n",
            "         [[ 1.1499e-01,  1.5627e-01,  5.8131e-02],\n",
            "          [ 6.8460e-03, -1.6714e-02, -1.0550e-01],\n",
            "          [ 9.4013e-02,  1.1492e-01,  1.1015e-01]]],\n",
            "\n",
            "\n",
            "        [[[ 8.2639e-02, -9.4022e-02, -4.9186e-02],\n",
            "          [-5.6312e-02, -5.0897e-02,  4.3156e-02],\n",
            "          [-4.7675e-02, -1.0637e-01,  7.2445e-02]],\n",
            "\n",
            "         [[ 1.4092e-02, -1.1450e-01, -1.7667e-02],\n",
            "          [-1.6512e-03, -1.0876e-01, -1.1317e-01],\n",
            "          [-3.4252e-02, -4.5234e-02,  5.4137e-02]],\n",
            "\n",
            "         [[-1.0478e-02,  1.0921e-01,  8.1183e-02],\n",
            "          [-1.1135e-01, -9.0068e-03,  1.0458e-02],\n",
            "          [-1.0998e-01, -5.3305e-02,  1.3151e-01]],\n",
            "\n",
            "         [[ 2.1932e-01,  1.5836e-01,  1.7733e-01],\n",
            "          [ 2.6875e-01,  2.9030e-01,  2.8977e-01],\n",
            "          [ 2.5299e-01,  9.4518e-02,  2.5412e-01]],\n",
            "\n",
            "         [[-1.9976e-01,  2.5127e-02, -7.2152e-02],\n",
            "          [-1.5818e-01, -8.8978e-02,  6.5883e-02],\n",
            "          [-1.6550e-01,  5.9996e-02, -1.1032e-01]],\n",
            "\n",
            "         [[ 1.1477e-01,  2.9338e-01,  4.9197e-03],\n",
            "          [ 2.2122e-01,  2.3860e-01,  5.2051e-02],\n",
            "          [ 1.5288e-01,  5.7644e-02,  2.9369e-01]]],\n",
            "\n",
            "\n",
            "        [[[-4.8942e-02, -1.1682e-01,  2.4817e-02],\n",
            "          [-9.2510e-02, -1.1436e-01, -4.4923e-02],\n",
            "          [ 1.3365e-02, -3.1830e-02, -4.4415e-02]],\n",
            "\n",
            "         [[ 4.8945e-02,  2.3262e-02, -2.6804e-02],\n",
            "          [ 1.4666e-01,  1.4167e-01,  2.0211e-02],\n",
            "          [ 1.5284e-01, -4.3092e-02, -1.2948e-01]],\n",
            "\n",
            "         [[-1.1504e-01, -7.1129e-02, -2.9954e-02],\n",
            "          [-3.6847e-02,  6.7795e-02,  1.5768e-01],\n",
            "          [ 1.7731e-01, -6.2568e-02,  9.9844e-02]],\n",
            "\n",
            "         [[-4.5136e-02,  1.2786e-01, -6.3683e-02],\n",
            "          [ 1.0479e-01,  3.6766e-02, -1.1337e-03],\n",
            "          [-6.5019e-02, -6.9612e-02, -1.5569e-02]],\n",
            "\n",
            "         [[-9.6818e-02,  7.8027e-02, -3.4808e-02],\n",
            "          [-2.0628e-02,  7.3393e-02, -1.2849e-01],\n",
            "          [-1.4312e-03, -6.7290e-02,  7.6731e-02]],\n",
            "\n",
            "         [[ 8.0359e-02, -2.5524e-02,  6.0144e-02],\n",
            "          [ 1.2844e-01, -1.0286e-01,  3.2728e-02],\n",
            "          [-8.5917e-02,  2.0976e-02, -4.8002e-02]]],\n",
            "\n",
            "\n",
            "        [[[ 1.3739e-01, -2.2453e-02,  1.2653e-01],\n",
            "          [-6.0843e-02,  7.3927e-02,  6.2689e-02],\n",
            "          [ 5.9923e-02, -1.3075e-02,  3.9805e-02]],\n",
            "\n",
            "         [[-1.2472e-01, -9.0839e-02,  5.0725e-02],\n",
            "          [ 6.3387e-02,  8.0375e-02, -5.3199e-02],\n",
            "          [-1.0930e-01, -6.0776e-02, -4.3466e-02]],\n",
            "\n",
            "         [[-1.3932e-02,  9.2170e-02,  1.3091e-02],\n",
            "          [ 7.6314e-02, -4.9495e-02,  1.2149e-01],\n",
            "          [ 1.0602e-01,  1.2875e-01, -1.0438e-01]],\n",
            "\n",
            "         [[-1.4349e-01, -3.9204e-03, -9.1019e-02],\n",
            "          [ 2.7072e-02, -1.7807e-01,  2.7704e-02],\n",
            "          [-1.0719e-01, -9.0293e-02, -1.9656e-01]],\n",
            "\n",
            "         [[-1.7032e-01, -6.4727e-02, -1.2791e-01],\n",
            "          [-2.4267e-01, -5.5321e-02, -1.4639e-01],\n",
            "          [-1.3948e-01, -6.4568e-02, -8.6134e-02]],\n",
            "\n",
            "         [[-1.4004e-01,  2.6278e-02,  4.1433e-02],\n",
            "          [-1.6995e-01, -5.6033e-02, -4.0439e-02],\n",
            "          [ 2.9873e-02, -1.6148e-01, -1.5835e-01]]],\n",
            "\n",
            "\n",
            "        [[[-8.0436e-02, -1.0170e-01,  4.7386e-02],\n",
            "          [-5.6832e-02,  3.0244e-03, -2.7177e-02],\n",
            "          [ 9.9076e-03, -4.6559e-02, -2.4575e-02]],\n",
            "\n",
            "         [[ 6.3627e-02,  4.8834e-02,  8.9746e-02],\n",
            "          [ 5.6510e-02,  7.9566e-02,  1.2872e-01],\n",
            "          [ 1.0427e-01,  1.2713e-01,  1.3078e-01]],\n",
            "\n",
            "         [[ 1.1046e-02, -3.5331e-03,  3.2327e-02],\n",
            "          [ 1.1224e-01,  2.6767e-02, -6.3591e-02],\n",
            "          [ 1.1224e-01, -1.6838e-02, -9.0800e-02]],\n",
            "\n",
            "         [[ 6.1834e-02,  9.9535e-02,  1.1263e-01],\n",
            "          [ 7.3811e-02, -2.3382e-02, -3.1953e-02],\n",
            "          [ 8.2001e-03,  1.3004e-01,  1.6087e-02]],\n",
            "\n",
            "         [[-2.6063e-03,  5.9278e-02, -1.6549e-01],\n",
            "          [ 2.0101e-02, -9.1998e-02,  1.1097e-03],\n",
            "          [-1.0863e-01, -1.4901e-01,  1.1702e-02]],\n",
            "\n",
            "         [[ 5.1050e-02, -5.3444e-02,  6.0485e-02],\n",
            "          [-1.2390e-02, -8.1094e-02,  6.9386e-02],\n",
            "          [-6.2784e-04,  8.8163e-02, -7.8732e-02]]]]), 'conv2.bias': tensor([-0.1934, -0.1742, -0.0483, -0.0842, -0.0167,  0.1063, -0.1487,  0.0310,\n",
            "        -0.0882,  0.0483, -0.0340,  0.1314,  0.0809, -0.0529,  0.1027, -0.0450]), 'fc1.weight': tensor([[-0.0021, -0.0021, -0.0034,  ..., -0.0066, -0.0044, -0.0025],\n",
            "        [ 0.0073,  0.0068, -0.0101,  ...,  0.0025,  0.0025, -0.0063],\n",
            "        [ 0.0197,  0.0025,  0.0198,  ...,  0.0178,  0.0209,  0.0316],\n",
            "        ...,\n",
            "        [-0.0160,  0.0063, -0.0033,  ..., -0.0046, -0.0095, -0.0226],\n",
            "        [-0.0084, -0.0094, -0.0087,  ..., -0.0013, -0.0044, -0.0041],\n",
            "        [ 0.0029,  0.0013, -0.0068,  ...,  0.0015,  0.0125, -0.0056]]), 'fc1.bias': tensor([-0.0076, -0.0135,  0.0197, -0.0015, -0.0097, -0.0117,  0.0117, -0.0119,\n",
            "        -0.0097, -0.0089, -0.0005,  0.0153, -0.0036, -0.0101, -0.0062, -0.0037,\n",
            "        -0.0042, -0.0148, -0.0094, -0.0018, -0.0082,  0.0168, -0.0035, -0.0075,\n",
            "        -0.0020, -0.0022, -0.0036,  0.0244,  0.0024, -0.0086, -0.0067, -0.0031,\n",
            "        -0.0026, -0.0079, -0.0046,  0.0218, -0.0060, -0.0039, -0.0057, -0.0070,\n",
            "        -0.0041, -0.0096, -0.0065,  0.0071, -0.0092, -0.0025, -0.0055, -0.0078,\n",
            "         0.0047, -0.0089, -0.0068, -0.0103,  0.0278, -0.0077,  0.0181,  0.0106,\n",
            "        -0.0089, -0.0010, -0.0077, -0.0085, -0.0059, -0.0071, -0.0049, -0.0020,\n",
            "        -0.0094,  0.0254, -0.0022,  0.0115, -0.0084, -0.0039, -0.0049, -0.0037,\n",
            "        -0.0050, -0.0068, -0.0063, -0.0087, -0.0106,  0.0057, -0.0164, -0.0095,\n",
            "         0.0099, -0.0105, -0.0047, -0.0032,  0.0196, -0.0025, -0.0091, -0.0064,\n",
            "        -0.0056,  0.0008,  0.0240, -0.0073, -0.0165, -0.0096, -0.0035, -0.0067,\n",
            "        -0.0029, -0.0058, -0.0041, -0.0060, -0.0044,  0.0205, -0.0086, -0.0031,\n",
            "        -0.0045,  0.0294, -0.0051,  0.0128, -0.0098, -0.0035, -0.0077,  0.0083,\n",
            "        -0.0057, -0.0020, -0.0053, -0.0045, -0.0060, -0.0104, -0.0035, -0.0010]), 'fc2.weight': tensor([[-0.0883, -0.0183,  0.0220,  ..., -0.0271,  0.0242, -0.0013],\n",
            "        [-0.0445,  0.0905, -0.0603,  ...,  0.0771, -0.0089,  0.0338],\n",
            "        [ 0.0827,  0.0236,  0.1383,  ..., -0.0579, -0.0108, -0.0681],\n",
            "        ...,\n",
            "        [-0.0058, -0.0009, -0.0409,  ...,  0.0495, -0.0058,  0.0410],\n",
            "        [ 0.0348,  0.0546,  0.0566,  ..., -0.0451, -0.0286, -0.0604],\n",
            "        [ 0.0209,  0.0486,  0.0054,  ...,  0.0817, -0.0707, -0.0806]]), 'fc2.bias': tensor([ 0.0030,  0.0366,  0.0789, -0.0381,  0.0627, -0.0368,  0.0230,  0.1028,\n",
            "        -0.0461, -0.0158,  0.0324,  0.0655,  0.0535,  0.0237,  0.0303, -0.0890,\n",
            "        -0.0405,  0.0497,  0.0809,  0.0630, -0.0310,  0.0367, -0.0367, -0.0501,\n",
            "        -0.0760,  0.0301,  0.1022,  0.0329,  0.0850,  0.0120,  0.0234, -0.0184,\n",
            "         0.0544,  0.0018, -0.0176,  0.0465, -0.0069, -0.0068, -0.0609,  0.0169,\n",
            "         0.0753, -0.0437,  0.0014, -0.0833,  0.0753, -0.0028,  0.0238,  0.0413,\n",
            "        -0.0733, -0.0547,  0.0592, -0.0991,  0.0316, -0.0233, -0.0313, -0.0761,\n",
            "         0.0345,  0.0446,  0.0860,  0.0240,  0.0389, -0.0002,  0.0023, -0.0217,\n",
            "         0.0552, -0.0972, -0.0015,  0.0599,  0.0747, -0.0794, -0.0375, -0.0514,\n",
            "        -0.0421, -0.0162,  0.0439, -0.0826,  0.0084,  0.0809,  0.0380,  0.0599,\n",
            "         0.0264, -0.0316,  0.0388, -0.0145]), 'fc3.weight': tensor([[ 0.0987,  0.0084, -0.1478,  ..., -0.0148, -0.0061,  0.0966],\n",
            "        [-0.0885,  0.0865,  0.0489,  ...,  0.0549, -0.1106, -0.0597],\n",
            "        [ 0.0458, -0.0871,  0.0033,  ..., -0.0302,  0.0721, -0.1250],\n",
            "        ...,\n",
            "        [-0.0779,  0.0910,  0.0417,  ...,  0.1011, -0.0862, -0.0284],\n",
            "        [ 0.1222, -0.0803, -0.0823,  ...,  0.0575,  0.0711, -0.0843],\n",
            "        [ 0.0130, -0.0477, -0.0844,  ..., -0.1018, -0.0453,  0.0388]]), 'fc3.bias': tensor([ 0.0687,  0.0839,  0.0209, -0.0655,  0.0559,  0.1168,  0.0103,  0.0725,\n",
            "         0.1270,  0.0754,  0.0348, -0.0433,  0.0370, -0.0283, -0.0456,  0.0404,\n",
            "        -0.0020,  0.0331,  0.0591,  0.0632]), 'fc4.weight': tensor([[ 0.0698, -0.0612,  0.0283,  0.0653, -0.0147, -0.0901, -0.1163, -0.1458,\n",
            "         -0.1197, -0.1450,  0.1993,  0.0638, -0.1094,  0.1120,  0.1834,  0.0828,\n",
            "         -0.0657, -0.1068,  0.0041,  0.1471],\n",
            "        [-0.1023,  0.2512, -0.3251,  0.1467,  0.0445,  0.1439, -0.2607,  0.1717,\n",
            "          0.0178,  0.1796,  0.1054, -0.0209, -0.2149, -0.0722,  0.0292,  0.1242,\n",
            "         -0.0559, -0.0614, -0.0513,  0.0917],\n",
            "        [ 0.0026, -0.0917, -0.1852,  0.0882,  0.2661, -0.1202, -0.2546, -0.2020,\n",
            "          0.2457, -0.1919,  0.0949,  0.0766, -0.1847,  0.1567,  0.1882, -0.1964,\n",
            "         -0.0172, -0.1006, -0.1446,  0.0735],\n",
            "        [ 0.2065,  0.0968,  0.0035,  0.1380,  0.0301, -0.2267, -0.1730,  0.0146,\n",
            "          0.0867,  0.1854, -0.0047, -0.1812,  0.1180, -0.1800,  0.1832, -0.2584,\n",
            "          0.1373,  0.0577,  0.0439, -0.1533],\n",
            "        [ 0.1684, -0.2072,  0.0781,  0.0227,  0.0861, -0.1585,  0.0100, -0.0010,\n",
            "          0.0730,  0.1990,  0.2058,  0.1319,  0.0124,  0.0491,  0.0958, -0.2878,\n",
            "         -0.1270, -0.0270, -0.2321, -0.0626]]), 'fc4.bias': tensor([ 0.1527, -0.1421,  0.0039, -0.1730, -0.1623])})\n"
          ]
        }
      ]
    },
    {
      "cell_type": "code",
      "source": [],
      "metadata": {
        "id": "VfMbe-IZLxuv"
      },
      "execution_count": null,
      "outputs": []
    }
  ]
}